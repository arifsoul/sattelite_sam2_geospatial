{
 "cells": [
  {
   "cell_type": "code",
   "execution_count": 1,
   "metadata": {},
   "outputs": [
    {
     "name": "stdout",
     "output_type": "stream",
     "text": [
      "D:\\_pribadi\\PROJECT\\AeroArb\n",
      "EPSG:27700\n"
     ]
    }
   ],
   "source": [
    "import os\n",
    "import leafmap\n",
    "import rasterio\n",
    "import rasterio\n",
    "from rasterio.warp import transform_bounds\n",
    "\n",
    "\n",
    "%cd \"D:\\_pribadi\\PROJECT\\AeroArb\\\"\n",
    "HOME = os.getcwd()\n",
    "\n",
    "# SAMPLE IMAGE\n",
    "# image_path_tif = f\"{HOME}/Map22_Orthomosaic_export_TueSep17092205633709_com.tif\"\n",
    "image_path_tif = f\"{HOME}/sample gambar/Map1_Orthomosaic_export_FriJun23075900983961_com.tif\"\n",
    "image_tif_copy = f\"{HOME}/image.tif\"  # Path for the copied image\n",
    "image_map = f\"{HOME}/image_map.tif\"  # Path for the copied image\n",
    "\n",
    "# Function to copy the GeoTIFF file\n",
    "def copy_geotiff(source_path, destination_path):\n",
    "    with rasterio.open(source_path) as src:\n",
    "        with rasterio.open(destination_path, 'w', driver='GTiff',\n",
    "                           height=src.height, width=src.width,\n",
    "                           count=src.count, dtype=src.dtypes[0],\n",
    "                           crs=src.crs, transform=src.transform) as dst:\n",
    "            src_crs = str(src.crs)\n",
    "            print(src_crs)\n",
    "            for i in range(1, src.count + 1):\n",
    "                dst.write(src.read(i), i)\n",
    "\n",
    "def is_valid_bbox(bbox):\n",
    "    left, top, right, bottom = bbox\n",
    "    return (-180 <= left <= 180 and -180 <= right <= 180 and\n",
    "            -90 <= top <= 90 and -90 <= bottom <= 90)\n",
    "\n",
    "def get_bbox_from_tif(image_path, dest_crs=\"EPSG:4326\"):\n",
    "    with rasterio.open(image_path) as src:\n",
    "        # Dapatkan bounds asli dari file TIFF\n",
    "        src_bounds = src.bounds\n",
    "        src_crs = src.crs  # CRS asli dari file, seperti EPSG:27700 untuk British National Grid\n",
    "        print(f\"Transforming from {src_crs} to {dest_crs}\")\n",
    "        \n",
    "        # Pastikan CRS asli benar (misalnya EPSG:27700), lalu transformasikan ke CRS tujuan\n",
    "        transformed_bounds = transform_bounds(src_crs, dest_crs,\n",
    "                                              src_bounds.left, src_bounds.bottom,\n",
    "                                              src_bounds.right, src_bounds.top)\n",
    "        return list(transformed_bounds)\n",
    "\n",
    "def get_center_from_bbox(bbox):\n",
    "    left, top, right, bottom = bbox\n",
    "    center_lon = (left + right) / 2\n",
    "    center_lat = (top + bottom) / 2\n",
    "    return center_lon, center_lat\n",
    "\n",
    "# Copy the GeoTIFF file\n",
    "copy_geotiff(image_path_tif, image_tif_copy)"
   ]
  },
  {
   "cell_type": "markdown",
   "metadata": {},
   "source": [
    "## Create an interactive map (optional) for selected image sample\n"
   ]
  },
  {
   "cell_type": "code",
   "execution_count": null,
   "metadata": {},
   "outputs": [],
   "source": [
    "bbox = get_bbox_from_tif(image_path_tif)\n",
    "center = get_center_from_bbox(bbox)\n",
    "\n",
    "# Verifikasi bbox sebelum melanjutkan\n",
    "if is_valid_bbox(bbox):\n",
    "    print(f'bbox: {bbox}')\n",
    "    print(f'center: {center}')\n",
    "else:\n",
    "    print(\"Bounding box tidak valid:\", bbox)"
   ]
  },
  {
   "cell_type": "code",
   "execution_count": null,
   "metadata": {},
   "outputs": [],
   "source": [
    "# m = leafmap.Map(center=center, zoom=18, height=\"800px\")\n",
    "m = leafmap.Map(center=[-22.17615, -51.253043], zoom=18, height=\"800px\")\n",
    "m.add_basemap(\"SATELLITE\")\n",
    "m"
   ]
  },
  {
   "cell_type": "code",
   "execution_count": null,
   "metadata": {},
   "outputs": [],
   "source": [
    "from segment_geospatial.samgeo import tms_to_geotiff\n",
    "\n",
    "bounds = m.user_roi_bounds()\n",
    "if bounds is None:\n",
    "    bounds = bbox\n",
    "    \n",
    "tms_to_geotiff(output=image_map, bbox=bounds, zoom=19, source=\"Satellite\", overwrite=True)\n",
    "m.layers[-1].visible = False\n",
    "m.add_raster(image_map, layer_name=\"Image\")\n",
    "\n",
    "image_tif_copy = image_map\n"
   ]
  },
  {
   "cell_type": "markdown",
   "metadata": {},
   "source": [
    "## Tree Segmentations SAM2\n"
   ]
  },
  {
   "cell_type": "code",
   "execution_count": 2,
   "metadata": {},
   "outputs": [
    {
     "name": "stdout",
     "output_type": "stream",
     "text": [
      "D:\\_pribadi\\PROJECT\\AeroArb\n",
      "final text_encoder_type: bert-base-uncased\n",
      "Resized image to 150x147\n",
      "Resized image to 150x117\n",
      "Resized image to 150x184\n",
      "Resized image to 150x158\n",
      "Resized image to 150x134\n",
      "Resized image to 150x142\n",
      "Resized image to 150x157\n",
      "Resized image to 150x163\n",
      "Resized image to 150x148\n",
      "Resized image to 150x146\n",
      "Resized image to 150x132\n",
      "Resized image to 150x134\n"
     ]
    },
    {
     "data": {
      "application/vnd.jupyter.widget-view+json": {
       "model_id": "f5441d5e7bd04bbcbb40371ad2c574aa",
       "version_major": 2,
       "version_minor": 0
      },
      "text/plain": [
       "Map(center=[52.4489475, 0.724175], controls=(ZoomControl(options=['position', 'zoom_in_text', 'zoom_in_title',…"
      ]
     },
     "execution_count": 2,
     "metadata": {},
     "output_type": "execute_result"
    }
   ],
   "source": [
    "\n",
    "import os\n",
    "%cd \"D:\\_pribadi\\PROJECT\\AeroArb\\\"\n",
    "HOME = os.getcwd()\n",
    "\n",
    "import leafmap\n",
    "from segment_geospatial_v2.samgeo.text_sam import LangSAM\n",
    "import leafmap\n",
    "import pandas as pd\n",
    "import json\n",
    "\n",
    "# USING CLASSES\n",
    "classes = True\n",
    "\n",
    "image_path_png = f\"{HOME}/mask.png\"\n",
    "mask_path = f\"{HOME}/trees.tif\"\n",
    "geojson_path = f\"{HOME}/objects.geojson\"\n",
    "geojson_species_path = f\"{HOME}/species.geojson\"\n",
    "object_tif_path = f\"{HOME}/objects.tif\"\n",
    "object_csv_path = f\"{HOME}/objects.csv\"\n",
    "\n",
    "m = leafmap.Map(center=[-22.17615, -51.253043], zoom=18, height=\"800px\")\n",
    "m.add_basemap(\"SATELLITE\")\n",
    "\n",
    "sam = LangSAM(model_type=\"sam2-hiera-large\")\n",
    "\n",
    "text_prompt = \"tree\"\n",
    "results = sam.predict(image_tif_copy, text_prompt, box_threshold=0.24, text_threshold=0.24, return_results=True)\n",
    "classifications = sam.generate_anns(\n",
    "    predict_masks=True,\n",
    "    add_boxes=False,\n",
    "    blend=False,\n",
    "    output=mask_path,\n",
    ")\n",
    "da, gdf = sam.region_groups(\n",
    "    image=mask_path,\n",
    "    min_size=100,\n",
    "    out_csv=object_csv_path,\n",
    "    out_image=object_tif_path,\n",
    "    out_vector=geojson_path\n",
    ")\n",
    "\n",
    "species_list = classifications[\"species\"]\n",
    "\n",
    "csv_data = pd.read_csv(object_csv_path)\n",
    "if len(species_list) != len(csv_data):\n",
    "    species_list = species_list + [\"unknown\"] * (len(csv_data) - len(species_list))\n",
    "    species_list = species_list[:len(csv_data)]\n",
    "# Update each feature to add 'species' key after 'label'\n",
    "insert_position = csv_data.columns.get_loc(\"label\") + 1\n",
    "csv_data.insert(insert_position, \"species\", species_list)\n",
    "csv_data.to_csv(object_csv_path, index=False)\n",
    "\n",
    "with open(geojson_path, 'r') as f:\n",
    "    geojson_data = json.load(f)\n",
    "# Update each feature to add 'species' key after 'label'\n",
    "for species, feature in zip(species_list, geojson_data.get(\"features\", [])):\n",
    "    properties = feature.get(\"properties\", {})\n",
    "    if \"label\" in properties:\n",
    "        # Insert 'species' after 'label'\n",
    "        updated_properties = {}\n",
    "        for key, value in properties.items():\n",
    "            updated_properties[key] = value\n",
    "            if key == \"label\":\n",
    "                updated_properties[\"species\"] = species  # Default value\n",
    "        feature[\"properties\"] = updated_properties\n",
    "# Save the updated GeoJSON\n",
    "with open(geojson_species_path, 'w') as f:\n",
    "    json.dump(geojson_data, f, indent=2)\n",
    "\n",
    "\n",
    "m.layers[-1].visible = False\n",
    "m.add_raster(image_tif_copy, layer_name=\"Image\")\n",
    "style = {\n",
    "    \"color\": \"#3388ff\",\n",
    "    \"weight\": 2,\n",
    "    \"fillColor\": \"#5be271\",\n",
    "    \"fillOpacity\": 0.5,\n",
    "}\n",
    "m.add_vector(geojson_species_path, layer_name=\"Vector\", style=style)\n",
    "m\n",
    "\n",
    "# RESTART SETELAH DIPAKAI"
   ]
  }
 ],
 "metadata": {
  "kernelspec": {
   "display_name": "venvaero",
   "language": "python",
   "name": "python3"
  },
  "language_info": {
   "codemirror_mode": {
    "name": "ipython",
    "version": 3
   },
   "file_extension": ".py",
   "mimetype": "text/x-python",
   "name": "python",
   "nbconvert_exporter": "python",
   "pygments_lexer": "ipython3",
   "version": "3.10.11"
  }
 },
 "nbformat": 4,
 "nbformat_minor": 2
}
